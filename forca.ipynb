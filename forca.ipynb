{
 "cells": [
  {
   "cell_type": "markdown",
   "id": "4716ef97-3221-4b65-bad6-6565c64ea85a",
   "metadata": {},
   "source": [
    "Passos:\n",
    " 1) Analisar as letras mais comuns por tamanho de palavra\n",
    "    1. Dividir as palavras por tamanho e agrupar palavras de mesmo tamanho\n",
    "    2. Para cada grupo de palavras, dividir as palavras em letras\n",
    "    3. Para cada grupo de palavras, contar quantas vezes cada letra aparece na lista\n",
    "    4. criar um dicionário que associa cada letra ao número de vezes que ela aparece\n",
    "    5. ordenar esse dicionário em ordem decrescente de letra mais comum\n",
    "    6. Criar uma lista de letras mais comuns para cada tamanho de palavra a partir do dicionário ordenado\n",
    " 2) Adivinhar a palavra no jogo da forca\n",
    "     1. Um input que recebe o número x de letras da palavra\n",
    "     2. Criar uma lista com x elementos zero, que irá armazenar as letras em ordem\n",
    "     2. Para cada tamanho de palavra x, o código chama a lista correspondente de letras mais comuns\n",
    "     \n",
    "     3. Enquanto ganhou = False:\n",
    "     3. Para cada item da lista de letras mais comuns, o código pergunta se aquela letra está presente na palavra\n",
    "     \n",
    "     a) Caso sim, o código pergunta em qual ou quais posições está a letra\n",
    "         \n",
    "         ##se a letra estiver na primeira posição:\n",
    "         ##1. O código usa o método .startswith para verificar na lista de palavras com aquele numero de letras, quais começam com aquela letra\n",
    "         ##se a letra estiver na última posição:\n",
    "         ##O código usa o método .endswith para verificar na lista de palavras com aquele numero de letras, quais começam com aquela letra\n",
    "         \n",
    "         \n",
    "         4.2. O código substitui os zeros na lista pela letra chutada nas posições indicadas pelo usuário\n",
    "         4.3. O código printa a lista que armazena os caracteres da palavra. \n",
    "         4.4. O código printa a lista de letras que não estão na palavra. \n",
    "         \n",
    "         b) Caso não, o código armazena a letra numa lista com letras que não estão na palavra\n",
    "         \n",
    "         4.2.1. O código imprime a palavra até o momento\n",
    "         4.2.1. O código imprime a lista de letras que não estão na palavra\n",
    "         \n",
    "     "
   ]
  },
  {
   "cell_type": "code",
   "execution_count": 3,
   "id": "223e8729-d978-46ec-8791-500c951659ec",
   "metadata": {},
   "outputs": [],
   "source": [
    "#lista de palavras que o programa consegue descobrir\n",
    "palavras = ['hidrogenio', 'helio', 'litio', 'berilio', 'boro', 'carbono', 'nitrogenio', 'oxigenio', 'fluor', 'neonio', 'sodio', 'magnesio', 'aluminio', 'silicio', 'fosforo', 'enxofre', 'cloro', 'argonio', 'potassio', 'calcio', 'escandio', 'titanio', 'vanadio', 'cromio', 'manganes', 'ferro', 'cobalto', 'niquel', 'cobre', 'zinco', 'galio', 'germanio', 'arsenio', 'selenio', 'bromo', 'kriptonio']\n",
    "\n",
    "#listas com as palavras organizadas por número de letras \n",
    "letras_1 = [] \n",
    "letras_2 = []\n",
    "letras_3 = []\n",
    "letras_4 = []\n",
    "letras_5 = []\n",
    "letras_6 = []\n",
    "letras_7 = []\n",
    "letras_8 = []\n",
    "letras_9 = []\n",
    "letras_10 = []\n",
    "letras_11 = []\n",
    "letras_12 = []\n",
    "                   \n",
    "#listas com as letras das palavras com x número de letras\n",
    "letras_palavras_1 = []\n",
    "letras_palavras_2 = []\n",
    "letras_palavras_3 = []\n",
    "letras_palavras_4 = []\n",
    "letras_palavras_5 = []\n",
    "letras_palavras_6 = []\n",
    "letras_palavras_7 = []\n",
    "letras_palavras_8 = []\n",
    "letras_palavras_9 = []\n",
    "letras_palavras_10 = []\n",
    "letras_palavras_11 = []\n",
    "letras_palavras_12 = []\n",
    "\n",
    "#dicionários com as letras das palavras e o número de vezes que cada letra aparece\n",
    "freq_letra_1 = {}\n",
    "freq_letra_2 = {}\n",
    "freq_letra_3 = {}\n",
    "freq_letra_4 = {}\n",
    "freq_letra_5 = {}\n",
    "freq_letra_6 = {}\n",
    "freq_letra_7 = {}\n",
    "freq_letra_8 = {}\n",
    "freq_letra_9 = {}\n",
    "freq_letra_10 = {}\n",
    "freq_letra_11 = {}\n",
    "freq_letra_12 = {}\n",
    "\n",
    "\n",
    "##Agora eles ordenados:\n",
    "freq_letra_1_ord = []\n",
    "freq_letra_2_ord = []\n",
    "freq_letra_3_ord = []\n",
    "freq_letra_4_ord = []\n",
    "freq_letra_5_ord = []\n",
    "freq_letra_6_ord = []\n",
    "freq_letra_7_ord = []\n",
    "freq_letra_8_ord = []\n",
    "freq_letra_9_ord = []\n",
    "freq_letra_10_ord = []\n",
    "freq_letra_11_ord = []\n",
    "freq_letra_12_ord = []\n"
   ]
  },
  {
   "cell_type": "code",
   "execution_count": 4,
   "id": "cdef6bf0-21ab-449d-af56-1823aa158304",
   "metadata": {},
   "outputs": [
    {
     "name": "stdout",
     "output_type": "stream",
     "text": [
      "[] [] [] ['boro'] ['helio', 'litio', 'fluor', 'sodio', 'cloro', 'ferro', 'cobre', 'zinco', 'galio', 'bromo'] ['neonio', 'calcio', 'cromio', 'niquel'] ['berilio', 'carbono', 'silicio', 'fosforo', 'enxofre', 'argonio', 'titanio', 'vanadio', 'cobalto', 'arsenio', 'selenio'] ['oxigenio', 'magnesio', 'aluminio', 'potassio', 'escandio', 'manganes', 'germanio'] ['kriptonio'] ['hidrogenio', 'nitrogenio'] [] []\n"
     ]
    }
   ],
   "source": [
    "def dividir_tamanho_palavra():\n",
    "    for palavra in palavras:\n",
    "        tamanho = len(palavra)\n",
    "        #print(tamanho)\n",
    "        if tamanho == 1:\n",
    "            letras_1.append(palavra)\n",
    "        elif tamanho == 2:\n",
    "            letras_2.append(palavra)\n",
    "        elif tamanho == 3:\n",
    "            letras_3.append(palavra)\n",
    "        elif tamanho == 4:\n",
    "            letras_4.append(palavra)\n",
    "        elif tamanho == 5:\n",
    "            letras_5.append(palavra)\n",
    "        elif tamanho == 6:\n",
    "            letras_6.append(palavra)\n",
    "        elif tamanho == 7:\n",
    "            letras_7.append(palavra)\n",
    "        elif tamanho == 8:\n",
    "            letras_8.append(palavra)\n",
    "        elif tamanho == 9:\n",
    "            letras_9.append(palavra)\n",
    "        elif tamanho == 10:\n",
    "            letras_10.append(palavra)\n",
    "        elif tamanho == 11:\n",
    "            letras_11.append(palavra)\n",
    "        else:\n",
    "            letras_12.append(palavra)\n",
    "        #for letra in palavra:\n",
    "dividir_tamanho_palavra()\n",
    "print(letras_1, letras_2, letras_3, letras_4, letras_5, letras_6, letras_7, letras_8, letras_9, letras_10, letras_11, letras_12)"
   ]
  },
  {
   "cell_type": "code",
   "execution_count": 5,
   "id": "61ca2a1d-ce2d-47a8-9798-7f04ab99c97b",
   "metadata": {},
   "outputs": [],
   "source": [
    "def letras_mais_comuns(letras_x, letras_palavras_x, freq_letra_x, freq_letra_x_ord, x): #separa as letras mais comuns em cada tamanho de palavra\n",
    "    for palavra in letras_x: \n",
    "        for letra in palavra: \n",
    "            letras_palavras_x.append(letra) #guarda a letra na lista de letras das palavras de 8 letras\n",
    "    for letra in letras_palavras_x: #para cada letra na lista de letras de palavras com 8 letras\n",
    "        cont_letras = letras_palavras_x.count(letra) #contar o numero de vezes que cada letra aparece\n",
    "        freq_letra_x[letra] = cont_letras #armazenar a letra e o número de vezes que essa letra aparece em um dicionário\n",
    "    freq_letra_x_ord = list(sorted(freq_letra_x, key=freq_letra_x.get, reverse=True))\n",
    "    #print(freq_letra_x)\n",
    "    #print(f\"As letras mais comuns em palavras com {x} letras são: \", freq_letra_x_ord)\n",
    "    return freq_letra_x_ord"
   ]
  },
  {
   "cell_type": "code",
   "execution_count": 6,
   "id": "57124383-d6cf-4033-ac1e-1fcfa325cef9",
   "metadata": {},
   "outputs": [
    {
     "name": "stdout",
     "output_type": "stream",
     "text": [
      "['o', 'b', 'r']\n",
      "['o', 'i', 'r', 'l', 'e', 'c', 'f', 'b', 'h', 't', 'u', 's', 'd', 'z', 'n', 'g', 'a', 'm']\n",
      "['o', 'i', 'a', 'n', 'e', 'r', 'l', 's', 'b', 'c', 'f', 't', 'x', 'g', 'v', 'd']\n",
      "['o', 'i', 'a', 'n', 'e', 'r', 'l', 's', 'b', 'c', 'f', 't', 'x', 'g', 'v', 'd']\n",
      "['o', 'i', 'n', 'a', 'e', 's', 'g', 'm', 'x', 'l', 'u', 'p', 't', 'c', 'd', 'r']\n"
     ]
    }
   ],
   "source": [
    "letras_1 = letras_mais_comuns(letras_1, letras_palavras_1, freq_letra_1, freq_letra_1_ord, 1)    \n",
    "letras_2 = letras_mais_comuns(letras_2, letras_palavras_2, freq_letra_2, freq_letra_2_ord, 2) \n",
    "letras_3 = letras_mais_comuns(letras_3, letras_palavras_3, freq_letra_3, freq_letra_3_ord, 3)    \n",
    "letras_4 = letras_mais_comuns(letras_4, letras_palavras_4, freq_letra_4, freq_letra_4_ord, 4) \n",
    "letras_5 = letras_mais_comuns(letras_5, letras_palavras_5, freq_letra_5, freq_letra_5_ord, 5)    \n",
    "letras_6 = letras_mais_comuns(letras_6, letras_palavras_6, freq_letra_6, freq_letra_6_ord, 6)\n",
    "letras_7 = letras_mais_comuns(letras_7, letras_palavras_7, freq_letra_7, freq_letra_7_ord, 7)    \n",
    "letras_8 = letras_mais_comuns(letras_8, letras_palavras_8, freq_letra_8, freq_letra_8_ord, 8) \n",
    "letras_9 = letras_mais_comuns(letras_9, letras_palavras_9, freq_letra_9, freq_letra_9_ord, 9)    \n",
    "letras_10 = letras_mais_comuns(letras_10, letras_palavras_10, freq_letra_10, freq_letra_10_ord, 10) \n",
    "letras_11 = letras_mais_comuns(letras_11, letras_palavras_11, freq_letra_11, freq_letra_11_ord, 11)    \n",
    "letras_12 = letras_mais_comuns(letras_12, letras_palavras_12, freq_letra_12, freq_letra_12_ord, 12)\n",
    "\n",
    "\n",
    "print(letras_4)\n",
    "print(letras_5)\n",
    "print(letras_7)\n",
    "print(letras_7)\n",
    "print(letras_8)"
   ]
  },
  {
   "cell_type": "code",
   "execution_count": 7,
   "id": "fbd96f39-c799-4f00-9ce3-e21cca772a08",
   "metadata": {},
   "outputs": [
    {
     "name": "stdin",
     "output_type": "stream",
     "text": [
      "A sua palavra tem a letra o? sim\n",
      "Quantas vezes sua letra aparece na palavra? 2\n",
      "Me diga a primeira posição em que sua letra aparece. 1\n"
     ]
    },
    {
     "name": "stdout",
     "output_type": "stream",
     "text": [
      "['o', 0, 0, 0, 0, 0, 0, 0]\n"
     ]
    },
    {
     "name": "stdin",
     "output_type": "stream",
     "text": [
      "Me diga a primeira posição em que sua letra aparece. 8\n"
     ]
    },
    {
     "name": "stdout",
     "output_type": "stream",
     "text": [
      "['o', 0, 0, 0, 0, 0, 0, 'o']\n"
     ]
    }
   ],
   "source": [
    "palavra = [0] * 8\n",
    "\n",
    "def chutes(lista, tentativa):\n",
    "    #print(lista)\n",
    "    chute = lista[tentativa-1]\n",
    "    resposta = input(f'A sua palavra tem a letra {chute}?')\n",
    "    if resposta == 'sim':\n",
    "        tem_a_letra = True\n",
    "    else:\n",
    "        tem_a_letra = False\n",
    "    if tem_a_letra == True:\n",
    "        n_posições = int(input('Quantas vezes sua letra aparece na palavra?'))\n",
    "        i = 1\n",
    "        while i <= n_posições:\n",
    "            posição = int(input(\"Me diga a primeira posição em que sua letra aparece.\"))\n",
    "            palavra[posição - 1] = chute\n",
    "            print(palavra)\n",
    "            i = i + 1\n",
    "    else:\n",
    "        print('bele')\n",
    "        \n",
    "        \n",
    "chutes(letras_8, 1)"
   ]
  },
  {
   "cell_type": "code",
   "execution_count": null,
   "id": "cac06d3e-0e78-4e08-b05e-da35a85be830",
   "metadata": {},
   "outputs": [],
   "source": []
  },
  {
   "cell_type": "code",
   "execution_count": 1,
   "id": "bf3c5739-d8d9-440e-9067-d6aa07a4c94d",
   "metadata": {},
   "outputs": [
    {
     "ename": "NameError",
     "evalue": "name 'palavra' is not defined",
     "output_type": "error",
     "traceback": [
      "\u001b[1;31m---------------------------------------------------------------------------\u001b[0m",
      "\u001b[1;31mNameError\u001b[0m                                 Traceback (most recent call last)",
      "Cell \u001b[1;32mIn [1], line 18\u001b[0m\n\u001b[0;32m     15\u001b[0m         palavra_preencher \u001b[38;5;241m=\u001b[39m [\u001b[38;5;241m0\u001b[39m] \u001b[38;5;241m*\u001b[39m n_letras\n\u001b[0;32m     16\u001b[0m         continuar \u001b[38;5;241m=\u001b[39m \u001b[38;5;28;01mFalse\u001b[39;00m\n\u001b[1;32m---> 18\u001b[0m \u001b[43mforca\u001b[49m\u001b[43m(\u001b[49m\u001b[43m)\u001b[49m\n",
      "Cell \u001b[1;32mIn [1], line 4\u001b[0m, in \u001b[0;36mforca\u001b[1;34m()\u001b[0m\n\u001b[0;32m      2\u001b[0m \u001b[38;5;28;01mdef\u001b[39;00m \u001b[38;5;21mforca\u001b[39m():\n\u001b[0;32m      3\u001b[0m     \u001b[38;5;66;03m#print(palavra)\u001b[39;00m\n\u001b[1;32m----> 4\u001b[0m     continuar \u001b[38;5;241m=\u001b[39m \u001b[43mpalavra\u001b[49m\u001b[38;5;241m.\u001b[39mcount(\u001b[38;5;241m0\u001b[39m)\n\u001b[0;32m      5\u001b[0m     \u001b[38;5;66;03m#print(continuar)\u001b[39;00m\n\u001b[0;32m      6\u001b[0m     \u001b[38;5;28;01mif\u001b[39;00m continuar \u001b[38;5;241m==\u001b[39m \u001b[38;5;241m0\u001b[39m:\n",
      "\u001b[1;31mNameError\u001b[0m: name 'palavra' is not defined"
     ]
    }
   ],
   "source": [
    "#palavra = [0] * 8\n",
    "lista = []\n",
    "def forca():\n",
    "    print('Olá! Vamos jogar o Jogo da Forca?')\n",
    "    print('Para começar, imagine um dos elementos da tabela periódica para eu adivinhar!')\n",
    "    print('Agora me diga: quantas letras tem o seu elemento?')\n",
    "    n_letras = int(input())\n",
    "    palavra = [0] * n_letras\n",
    "    continuar = palavra.count(0)\n",
    "    \n",
    "    \n",
    "    \n",
    "    if continuar == 0:\n",
    "        continuar = False\n",
    "    else:\n",
    "        continuar = True\n",
    "    while continuar == True:\n",
    "        chutes()\n",
    "        continuar = False\n",
    "        \n",
    "forca()"
   ]
  },
  {
   "cell_type": "code",
   "execution_count": null,
   "id": "b6c6963b-abf6-48c2-88a1-b384c84c4bb3",
   "metadata": {},
   "outputs": [],
   "source": [
    "\n",
    "\n",
    "def forca():\n",
    "    print('Olá! Vamos jogar o Jogo da Forca?')\n",
    "    print('Para começar, imagine um dos elementos da tabela periódica para eu adivinhar!')\n",
    "    print('Agora me diga: quantas palavras tem o seu elemento?')\n",
    "    x = input()\n",
    "    if x == 1:\n",
    "        chutes()\n",
    "    elif x == 2:\n",
    "        chutes()\n",
    "        "
   ]
  },
  {
   "cell_type": "code",
   "execution_count": null,
   "id": "3e90d510-4fcf-499e-a26a-0a4c544d5d63",
   "metadata": {},
   "outputs": [],
   "source": [
    "forca()"
   ]
  },
  {
   "cell_type": "code",
   "execution_count": null,
   "id": "5943bf95-6735-4d11-af04-8945c8a768dc",
   "metadata": {},
   "outputs": [],
   "source": []
  }
 ],
 "metadata": {
  "kernelspec": {
   "display_name": "ilumpy",
   "language": "python",
   "name": "ilumpy"
  },
  "language_info": {
   "codemirror_mode": {
    "name": "ipython",
    "version": 3
   },
   "file_extension": ".py",
   "mimetype": "text/x-python",
   "name": "python",
   "nbconvert_exporter": "python",
   "pygments_lexer": "ipython3",
   "version": "3.10.8"
  }
 },
 "nbformat": 4,
 "nbformat_minor": 5
}
