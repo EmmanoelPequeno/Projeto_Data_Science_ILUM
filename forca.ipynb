{
 "cells": [
  {
   "cell_type": "markdown",
   "id": "4716ef97-3221-4b65-bad6-6565c64ea85a",
   "metadata": {},
   "source": [
    "Passos:\n",
    " 1) Analisar as letras mais comuns por tamanho de palavra\n",
    "    1. Dividir as palavras por tamanho e agrupar palavras de mesmo tamanho\n",
    "    2. Para cada grupo de palavras, dividir as palavras em letras\n",
    "    3. Para cada grupo de palavras, contar quantas vezes cada letra aparece na lista\n",
    "    4. criar um dicionário que associa cada letra ao número de vezes que ela aparece\n",
    "    5. ordenar esse dicionário em ordem decrescente de letra mais comum\n",
    "    6. Criar uma lista de letras mais comuns para cada tamanho de palavra a partir do dicionário ordenado\n",
    " 2) Adivinhar a palavra no jogo da forca\n",
    "     1. Um input que recebe o número x de letras da palavra\n",
    "     2. Criar uma lista com x elementos zero, que irá armazenar as letras em ordem\n",
    "     2. Para cada tamanho de palavra x, o código chama a lista correspondente de letras mais comuns\n",
    "     \n",
    "     3. Enquanto ganhou = False:\n",
    "     3. Para cada item da lista de letras mais comuns, o código pergunta se aquela letra está presente na palavra\n",
    "     \n",
    "     a) Caso sim, o código pergunta em qual ou quais posições está a letra\n",
    "         \n",
    "         ##se a letra estiver na primeira posição:\n",
    "         ##1. O código usa o método .startswith para verificar na lista de palavras com aquele numero de letras, quais começam com aquela letra\n",
    "         ##se a letra estiver na última posição:\n",
    "         ##O código usa o método .endswith para verificar na lista de palavras com aquele numero de letras, quais começam com aquela letra\n",
    "         \n",
    "         \n",
    "         4.2. O código substitui os zeros na lista pela letra chutada nas posições indicadas pelo usuário\n",
    "         4.3. O código printa a lista que armazena os caracteres da palavra. \n",
    "         4.4. O código printa a lista de letras que não estão na palavra. \n",
    "         \n",
    "         b) Caso não, o código armazena a letra numa lista com letras que não estão na palavra\n",
    "         \n",
    "         4.2.1. O código imprime a palavra até o momento\n",
    "         4.2.1. O código imprime a lista de letras que não estão na palavra\n",
    "         \n",
    "     "
   ]
  },
  {
   "cell_type": "code",
   "execution_count": 1,
   "id": "223e8729-d978-46ec-8791-500c951659ec",
   "metadata": {},
   "outputs": [],
   "source": [
    "#lista de palavras que o programa consegue descobrir\n",
    "palavras = ['hidrogenio', 'helio', 'litio', 'berilio', 'boro', 'carbono', 'nitrogenio', 'oxigenio', 'fluor', 'neonio', 'sodio', 'magnesio', 'aluminio', 'silicio', 'fosforo', 'enxofre', 'cloro', 'argonio', 'potassio', 'calcio', 'escandio', 'titanio', 'vanadio', 'cromio', 'manganes', 'ferro', 'cobalto', 'niquel', 'cobre', 'zinco', 'galio', 'germanio', 'arsenio', 'selenio', 'bromo', 'kriptonio']\n",
    "\n",
    "#listas com as palavras organizadas por número de letras \n",
    "letras_1 = [] \n",
    "letras_2 = []\n",
    "letras_3 = []\n",
    "letras_4 = []\n",
    "letras_5 = []\n",
    "letras_6 = []\n",
    "letras_7 = []\n",
    "letras_8 = []\n",
    "letras_9 = []\n",
    "letras_10 = []\n",
    "letras_11 = []\n",
    "letras_12 = []\n",
    "                   \n",
    "#listas com as letras das palavras com x número de letras\n",
    "letras_palavras_1 = []\n",
    "letras_palavras_2 = []\n",
    "letras_palavras_3 = []\n",
    "letras_palavras_4 = []\n",
    "letras_palavras_5 = []\n",
    "letras_palavras_6 = []\n",
    "letras_palavras_7 = []\n",
    "letras_palavras_8 = []\n",
    "letras_palavras_9 = []\n",
    "letras_palavras_10 = []\n",
    "letras_palavras_11 = []\n",
    "letras_palavras_12 = []\n",
    "\n",
    "#dicionários com as letras das palavras e o número de vezes que cada letra aparece\n",
    "freq_letra_1 = {}\n",
    "freq_letra_2 = {}\n",
    "freq_letra_3 = {}\n",
    "freq_letra_4 = {}\n",
    "freq_letra_5 = {}\n",
    "freq_letra_6 = {}\n",
    "freq_letra_7 = {}\n",
    "freq_letra_8 = {}\n",
    "freq_letra_9 = {}\n",
    "freq_letra_10 = {}\n",
    "freq_letra_11 = {}\n",
    "freq_letra_12 = {}\n",
    "\n",
    "\n",
    "#Agora cada letra ordenada por frequência:\n",
    "freq_letra_1_ord = []\n",
    "freq_letra_2_ord = []\n",
    "freq_letra_3_ord = []\n",
    "freq_letra_4_ord = []\n",
    "freq_letra_5_ord = []\n",
    "freq_letra_6_ord = []\n",
    "freq_letra_7_ord = []\n",
    "freq_letra_8_ord = []\n",
    "freq_letra_9_ord = []\n",
    "freq_letra_10_ord = []\n",
    "freq_letra_11_ord = []\n",
    "freq_letra_12_ord = []\n"
   ]
  },
  {
   "cell_type": "code",
   "execution_count": 2,
   "id": "cdef6bf0-21ab-449d-af56-1823aa158304",
   "metadata": {},
   "outputs": [],
   "source": [
    "def dividir_tamanho_palavra():\n",
    "    for palavra in palavras:\n",
    "        tamanho = len(palavra)\n",
    "        #print(tamanho)\n",
    "        if tamanho == 1:\n",
    "            letras_1.append(palavra)\n",
    "        elif tamanho == 2:\n",
    "            letras_2.append(palavra)\n",
    "        elif tamanho == 3:\n",
    "            letras_3.append(palavra)\n",
    "        elif tamanho == 4:\n",
    "            letras_4.append(palavra)\n",
    "        elif tamanho == 5:\n",
    "            letras_5.append(palavra)\n",
    "        elif tamanho == 6:\n",
    "            letras_6.append(palavra)\n",
    "        elif tamanho == 7:\n",
    "            letras_7.append(palavra)\n",
    "        elif tamanho == 8:\n",
    "            letras_8.append(palavra)\n",
    "        elif tamanho == 9:\n",
    "            letras_9.append(palavra)\n",
    "        elif tamanho == 10:\n",
    "            letras_10.append(palavra)\n",
    "        elif tamanho == 11:\n",
    "            letras_11.append(palavra)\n",
    "        else:\n",
    "            letras_12.append(palavra)\n",
    "        #for letra in palavra:\n",
    "dividir_tamanho_palavra()\n",
    "#print(letras_1, letras_2, letras_3, letras_4, letras_5, letras_6, letras_7, letras_8, letras_9, letras_10, letras_11, letras_12)"
   ]
  },
  {
   "cell_type": "code",
   "execution_count": 3,
   "id": "61ca2a1d-ce2d-47a8-9798-7f04ab99c97b",
   "metadata": {},
   "outputs": [],
   "source": [
    "def letras_mais_comuns(letras_x, letras_palavras_x, freq_letra_x, freq_letra_x_ord, x): #separa as letras mais comuns em cada tamanho de palavra\n",
    "    for palavra in letras_x: \n",
    "        for letra in palavra: \n",
    "            letras_palavras_x.append(letra) #guarda a letra na lista de letras das palavras de 8 letras\n",
    "    for letra in letras_palavras_x: #para cada letra na lista de letras de palavras com 8 letras\n",
    "        cont_letras = letras_palavras_x.count(letra) #contar o numero de vezes que cada letra aparece\n",
    "        freq_letra_x[letra] = cont_letras #armazenar a letra e o número de vezes que essa letra aparece em um dicionário\n",
    "    freq_letra_x_ord = list(sorted(freq_letra_x, key=freq_letra_x.get, reverse=True))\n",
    "    #print(freq_letra_x)\n",
    "    #print(f\"As letras mais comuns em palavras com {x} letras são: \", freq_letra_x_ord)\n",
    "    return freq_letra_x_ord"
   ]
  },
  {
   "cell_type": "code",
   "execution_count": 4,
   "id": "57124383-d6cf-4033-ac1e-1fcfa325cef9",
   "metadata": {},
   "outputs": [],
   "source": [
    "letras_1 = letras_mais_comuns(letras_1, letras_palavras_1, freq_letra_1, freq_letra_1_ord, 1)    \n",
    "letras_2 = letras_mais_comuns(letras_2, letras_palavras_2, freq_letra_2, freq_letra_2_ord, 2) \n",
    "letras_3 = letras_mais_comuns(letras_3, letras_palavras_3, freq_letra_3, freq_letra_3_ord, 3)    \n",
    "letras_4 = letras_mais_comuns(letras_4, letras_palavras_4, freq_letra_4, freq_letra_4_ord, 4) \n",
    "letras_5 = letras_mais_comuns(letras_5, letras_palavras_5, freq_letra_5, freq_letra_5_ord, 5)    \n",
    "letras_6 = letras_mais_comuns(letras_6, letras_palavras_6, freq_letra_6, freq_letra_6_ord, 6)\n",
    "letras_7 = letras_mais_comuns(letras_7, letras_palavras_7, freq_letra_7, freq_letra_7_ord, 7)    \n",
    "letras_8 = letras_mais_comuns(letras_8, letras_palavras_8, freq_letra_8, freq_letra_8_ord, 8) \n",
    "letras_9 = letras_mais_comuns(letras_9, letras_palavras_9, freq_letra_9, freq_letra_9_ord, 9)    \n",
    "letras_10 = letras_mais_comuns(letras_10, letras_palavras_10, freq_letra_10, freq_letra_10_ord, 10) \n",
    "letras_11 = letras_mais_comuns(letras_11, letras_palavras_11, freq_letra_11, freq_letra_11_ord, 11)    \n",
    "letras_12 = letras_mais_comuns(letras_12, letras_palavras_12, freq_letra_12, freq_letra_12_ord, 12)\n",
    "\n",
    "\n",
    "#print(letras_4)\n",
    "#print(letras_5)\n",
    "#print(letras_7)\n",
    "#print(letras_7)\n",
    "#print(letras_8)"
   ]
  },
  {
   "cell_type": "code",
   "execution_count": 5,
   "id": "fbd96f39-c799-4f00-9ce3-e21cca772a08",
   "metadata": {},
   "outputs": [],
   "source": [
    "def chutes(lista, tentativa, palavra):\n",
    "    #print(lista)\n",
    "    chute = lista[tentativa-1]\n",
    "    resposta = input(f'A sua palavra tem a letra {chute}?')\n",
    "    if resposta == 'sim':\n",
    "        tem_a_letra = True\n",
    "    else:\n",
    "        tem_a_letra = False\n",
    "    if tem_a_letra == True:\n",
    "        n_posições = int(input('Quantas vezes sua letra aparece na palavra?'))\n",
    "        i = 1\n",
    "        while i <= n_posições:\n",
    "            posição = int(input(\"Me diga a primeira posição em que sua letra aparece.\"))\n",
    "            palavra[posição - 1] = chute\n",
    "            print(palavra)\n",
    "            i = i + 1\n",
    "    else:\n",
    "        print('bele')\n",
    "        \n",
    "        \n",
    "#chutes(letras_8, 1)"
   ]
  },
  {
   "cell_type": "code",
   "execution_count": 6,
   "id": "cac06d3e-0e78-4e08-b05e-da35a85be830",
   "metadata": {},
   "outputs": [],
   "source": [
    "def escolhe_lista(n_letras):\n",
    "    if n_letras == 1:\n",
    "        lista = letras_1\n",
    "    elif n_letras == 2:\n",
    "        lista = letras_2\n",
    "    elif n_letras == 3:\n",
    "        lista = letras_3\n",
    "    elif n_letras == 4:\n",
    "        lista = letras_4\n",
    "    elif n_letras == 5:\n",
    "        lista = letras_5\n",
    "    elif n_letras == 6:\n",
    "        lista = letras_6\n",
    "    elif n_letras == 7:\n",
    "        lista = letras_7\n",
    "    elif n_letras == 8:\n",
    "        lista = letras_8\n",
    "    elif n_letras == 9:\n",
    "        lista = letras_9\n",
    "    elif n_letras == 10:\n",
    "        lista = letras_10\n",
    "    elif n_letras == 11:\n",
    "        lista = letras_11\n",
    "    else: \n",
    "        n_letras == 12\n",
    "        lista = letras_12\n",
    "    return lista"
   ]
  },
  {
   "cell_type": "code",
   "execution_count": null,
   "id": "1784de83-7860-4878-8633-0d168bfcfb65",
   "metadata": {},
   "outputs": [
    {
     "name": "stdout",
     "output_type": "stream",
     "text": [
      "Olá! Vamos jogar o Jogo da Forca?\n",
      "Para começar, imagine um dos elementos da tabela periódica para eu adivinhar!\n",
      "Agora me diga: quantas letras tem o seu elemento?\n"
     ]
    },
    {
     "name": "stdin",
     "output_type": "stream",
     "text": [
      " 7\n",
      "A sua palavra tem a letra o? sim\n",
      "Quantas vezes sua letra aparece na palavra? 1\n",
      "Me diga a primeira posição em que sua letra aparece. 7\n"
     ]
    },
    {
     "name": "stdout",
     "output_type": "stream",
     "text": [
      "[0, 0, 0, 0, 0, 0, 'o']\n"
     ]
    },
    {
     "name": "stdin",
     "output_type": "stream",
     "text": [
      "A sua palavra tem a letra i? sim\n",
      "Quantas vezes sua letra aparece na palavra? 1\n",
      "Me diga a primeira posição em que sua letra aparece. 6\n"
     ]
    },
    {
     "name": "stdout",
     "output_type": "stream",
     "text": [
      "[0, 0, 0, 0, 0, 'i', 'o']\n"
     ]
    },
    {
     "name": "stdin",
     "output_type": "stream",
     "text": [
      "A sua palavra tem a letra a? não\n"
     ]
    },
    {
     "name": "stdout",
     "output_type": "stream",
     "text": [
      "bele\n"
     ]
    }
   ],
   "source": [
    "# palavra = [0] * 8\n",
    "lista = []\n",
    "def forca():\n",
    "    print('Olá! Vamos jogar o Jogo da Forca?')\n",
    "    print('Para começar, imagine um dos elementos da tabela periódica para eu adivinhar!')\n",
    "    print('Agora me diga: quantas letras tem o seu elemento?')\n",
    "    n_letras = int(input())\n",
    "    palavra = [0] * n_letras\n",
    "    continuar = True\n",
    "    tentativa = 1\n",
    "    while continuar == True:\n",
    "        lista = escolhe_lista(n_letras)\n",
    "        chutes(lista, tentativa, palavra)\n",
    "        continuar = palavra.count(0)\n",
    "        if continuar == 0:\n",
    "            continuar = False\n",
    "            \n",
    "        else:\n",
    "            continuar = True\n",
    "        tentativa = tentativa + 1\n",
    "        #continuar = False\n",
    "        \n",
    "forca()"
   ]
  },
  {
   "cell_type": "code",
   "execution_count": null,
   "id": "a5e4d593-0c5b-4d9a-a828-2dc0c2ce755c",
   "metadata": {},
   "outputs": [],
   "source": []
  },
  {
   "cell_type": "code",
   "execution_count": null,
   "id": "2903c696-a7a4-42d4-bed9-e3921642c70b",
   "metadata": {},
   "outputs": [],
   "source": []
  }
 ],
 "metadata": {
  "kernelspec": {
   "display_name": "ilumpy",
   "language": "python",
   "name": "ilumpy"
  },
  "language_info": {
   "codemirror_mode": {
    "name": "ipython",
    "version": 3
   },
   "file_extension": ".py",
   "mimetype": "text/x-python",
   "name": "python",
   "nbconvert_exporter": "python",
   "pygments_lexer": "ipython3",
   "version": "3.10.8"
  }
 },
 "nbformat": 4,
 "nbformat_minor": 5
}
