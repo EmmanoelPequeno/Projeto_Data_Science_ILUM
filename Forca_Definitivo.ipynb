{
 "cells": [
  {
   "cell_type": "code",
   "execution_count": 1,
   "id": "74b8edd5-eecf-403b-9ae1-0da12dc0d335",
   "metadata": {},
   "outputs": [
    {
     "name": "stdout",
     "output_type": "stream",
     "text": [
      "Olá! Vamos jogar o Jogo da Forca?\n",
      "Para começar, imagine um dos elementos da tabela periódica para eu adivinhar!\n",
      "Agora me diga: quantas letras tem o seu elemento?\n"
     ]
    },
    {
     "name": "stdin",
     "output_type": "stream",
     "text": [
      " 5\n",
      "A sua palavra tem a letra o?  sim\n",
      "Quantas vezes sua letra aparece na palavra?  1\n",
      "Me diga a 1ª posição em que sua letra aparece:  5\n"
     ]
    },
    {
     "name": "stdout",
     "output_type": "stream",
     "text": [
      "[0, 0, 0, 0, 'o']\n",
      "Palavras possíveis: ['Helio', 'Litio', 'Sodio', 'Cloro', 'Cromo', 'Ferro', 'Zinco', 'Galio', 'Bromo', 'Itrio', 'Renio', 'Osmio', 'Talio', 'Radio', 'Torio', 'Curio']\n"
     ]
    },
    {
     "name": "stdin",
     "output_type": "stream",
     "text": [
      "A sua palavra tem a letra i?  sim\n",
      "Quantas vezes sua letra aparece na palavra?  1\n",
      "Me diga a 1ª posição em que sua letra aparece:  2\n"
     ]
    },
    {
     "name": "stdout",
     "output_type": "stream",
     "text": [
      "[0, 'i', 0, 0, 'o']\n",
      "Palavras possíveis: ['Litio', 'Zinco']\n"
     ]
    },
    {
     "name": "stdin",
     "output_type": "stream",
     "text": [
      "A sua palavra tem a letra r?  não\n"
     ]
    },
    {
     "name": "stdout",
     "output_type": "stream",
     "text": [
      "bele\n"
     ]
    },
    {
     "name": "stdin",
     "output_type": "stream",
     "text": [
      "A sua palavra tem a letra l?  não\n"
     ]
    },
    {
     "name": "stdout",
     "output_type": "stream",
     "text": [
      "bele\n"
     ]
    },
    {
     "name": "stdin",
     "output_type": "stream",
     "text": [
      "A sua palavra tem a letra a?  não\n"
     ]
    },
    {
     "name": "stdout",
     "output_type": "stream",
     "text": [
      "bele\n"
     ]
    },
    {
     "name": "stdin",
     "output_type": "stream",
     "text": [
      "A sua palavra tem a letra e?  não\n"
     ]
    },
    {
     "name": "stdout",
     "output_type": "stream",
     "text": [
      "bele\n"
     ]
    },
    {
     "name": "stdin",
     "output_type": "stream",
     "text": [
      "A sua palavra tem a letra C?  não\n"
     ]
    },
    {
     "name": "stdout",
     "output_type": "stream",
     "text": [
      "bele\n"
     ]
    },
    {
     "name": "stdin",
     "output_type": "stream",
     "text": [
      "A sua palavra tem a letra t?  não\n"
     ]
    },
    {
     "name": "stdout",
     "output_type": "stream",
     "text": [
      "bele\n"
     ]
    },
    {
     "name": "stdin",
     "output_type": "stream",
     "text": [
      "A sua palavra tem a letra m?  nãpo\n"
     ]
    },
    {
     "name": "stdout",
     "output_type": "stream",
     "text": [
      "Por favor, responda com 'sim' ou 'não'\n"
     ]
    },
    {
     "name": "stdin",
     "output_type": "stream",
     "text": [
      "A sua palavra tem a letra m?  não\n"
     ]
    },
    {
     "name": "stdout",
     "output_type": "stream",
     "text": [
      "bele\n"
     ]
    },
    {
     "name": "stdin",
     "output_type": "stream",
     "text": [
      "A sua palavra tem a letra F?  não\n"
     ]
    },
    {
     "name": "stdout",
     "output_type": "stream",
     "text": [
      "bele\n"
     ]
    },
    {
     "ename": "KeyboardInterrupt",
     "evalue": "Interrupted by user",
     "output_type": "error",
     "traceback": [
      "\u001b[1;31m---------------------------------------------------------------------------\u001b[0m",
      "\u001b[1;31mKeyboardInterrupt\u001b[0m                         Traceback (most recent call last)",
      "Cell \u001b[1;32mIn [1], line 264\u001b[0m\n\u001b[0;32m    261\u001b[0m             continuar \u001b[38;5;241m=\u001b[39m \u001b[38;5;28;01mTrue\u001b[39;00m\n\u001b[0;32m    262\u001b[0m         tentativa \u001b[38;5;241m=\u001b[39m tentativa \u001b[38;5;241m+\u001b[39m \u001b[38;5;241m1\u001b[39m\n\u001b[1;32m--> 264\u001b[0m \u001b[43mforca\u001b[49m\u001b[43m(\u001b[49m\u001b[43m)\u001b[49m\n",
      "Cell \u001b[1;32mIn [1], line 255\u001b[0m, in \u001b[0;36mforca\u001b[1;34m()\u001b[0m\n\u001b[0;32m    253\u001b[0m \u001b[38;5;28;01mwhile\u001b[39;00m continuar \u001b[38;5;241m==\u001b[39m \u001b[38;5;28;01mTrue\u001b[39;00m:\n\u001b[0;32m    254\u001b[0m     lista \u001b[38;5;241m=\u001b[39m escolhe_lista(n_letras)\n\u001b[1;32m--> 255\u001b[0m     \u001b[43mchutes\u001b[49m\u001b[43m(\u001b[49m\u001b[43mlista\u001b[49m\u001b[43m,\u001b[49m\u001b[43m \u001b[49m\u001b[43mtentativa\u001b[49m\u001b[43m,\u001b[49m\u001b[43m \u001b[49m\u001b[43mpalavra\u001b[49m\u001b[43m)\u001b[49m\n\u001b[0;32m    256\u001b[0m     continuar \u001b[38;5;241m=\u001b[39m palavra\u001b[38;5;241m.\u001b[39mcount(\u001b[38;5;241m0\u001b[39m)\n\u001b[0;32m    257\u001b[0m     \u001b[38;5;28;01mif\u001b[39;00m continuar \u001b[38;5;241m==\u001b[39m \u001b[38;5;241m0\u001b[39m:\n",
      "Cell \u001b[1;32mIn [1], line 175\u001b[0m, in \u001b[0;36mchutes\u001b[1;34m(lista, tentativa, palavra)\u001b[0m\n\u001b[0;32m    172\u001b[0m chute \u001b[38;5;241m=\u001b[39m lista[tentativa \u001b[38;5;241m-\u001b[39m \u001b[38;5;241m1\u001b[39m]\n\u001b[0;32m    174\u001b[0m \u001b[38;5;28;01mwhile\u001b[39;00m \u001b[38;5;28;01mTrue\u001b[39;00m:\n\u001b[1;32m--> 175\u001b[0m     resposta \u001b[38;5;241m=\u001b[39m \u001b[38;5;28;43minput\u001b[39;49m\u001b[43m(\u001b[49m\u001b[38;5;124;43mf\u001b[39;49m\u001b[38;5;124;43m'\u001b[39;49m\u001b[38;5;124;43mA sua palavra tem a letra \u001b[39;49m\u001b[38;5;132;43;01m{\u001b[39;49;00m\u001b[43mchute\u001b[49m\u001b[38;5;132;43;01m}\u001b[39;49;00m\u001b[38;5;124;43m? \u001b[39;49m\u001b[38;5;124;43m'\u001b[39;49m\u001b[43m)\u001b[49m\n\u001b[0;32m    176\u001b[0m     resposta \u001b[38;5;241m=\u001b[39m resposta\u001b[38;5;241m.\u001b[39mlower()\n\u001b[0;32m    178\u001b[0m     \u001b[38;5;28;01mif\u001b[39;00m resposta \u001b[38;5;241m==\u001b[39m \u001b[38;5;124m'\u001b[39m\u001b[38;5;124msim\u001b[39m\u001b[38;5;124m'\u001b[39m \u001b[38;5;129;01mor\u001b[39;00m resposta \u001b[38;5;241m==\u001b[39m \u001b[38;5;124m'\u001b[39m\u001b[38;5;124ms\u001b[39m\u001b[38;5;124m'\u001b[39m:\n",
      "File \u001b[1;32mc:\\venv\\ilumpy\\lib\\site-packages\\ipykernel\\kernelbase.py:1177\u001b[0m, in \u001b[0;36mKernel.raw_input\u001b[1;34m(self, prompt)\u001b[0m\n\u001b[0;32m   1173\u001b[0m \u001b[38;5;28;01mif\u001b[39;00m \u001b[38;5;129;01mnot\u001b[39;00m \u001b[38;5;28mself\u001b[39m\u001b[38;5;241m.\u001b[39m_allow_stdin:\n\u001b[0;32m   1174\u001b[0m     \u001b[38;5;28;01mraise\u001b[39;00m StdinNotImplementedError(\n\u001b[0;32m   1175\u001b[0m         \u001b[38;5;124m\"\u001b[39m\u001b[38;5;124mraw_input was called, but this frontend does not support input requests.\u001b[39m\u001b[38;5;124m\"\u001b[39m\n\u001b[0;32m   1176\u001b[0m     )\n\u001b[1;32m-> 1177\u001b[0m \u001b[38;5;28;01mreturn\u001b[39;00m \u001b[38;5;28;43mself\u001b[39;49m\u001b[38;5;241;43m.\u001b[39;49m\u001b[43m_input_request\u001b[49m\u001b[43m(\u001b[49m\n\u001b[0;32m   1178\u001b[0m \u001b[43m    \u001b[49m\u001b[38;5;28;43mstr\u001b[39;49m\u001b[43m(\u001b[49m\u001b[43mprompt\u001b[49m\u001b[43m)\u001b[49m\u001b[43m,\u001b[49m\n\u001b[0;32m   1179\u001b[0m \u001b[43m    \u001b[49m\u001b[38;5;28;43mself\u001b[39;49m\u001b[38;5;241;43m.\u001b[39;49m\u001b[43m_parent_ident\u001b[49m\u001b[43m[\u001b[49m\u001b[38;5;124;43m\"\u001b[39;49m\u001b[38;5;124;43mshell\u001b[39;49m\u001b[38;5;124;43m\"\u001b[39;49m\u001b[43m]\u001b[49m\u001b[43m,\u001b[49m\n\u001b[0;32m   1180\u001b[0m \u001b[43m    \u001b[49m\u001b[38;5;28;43mself\u001b[39;49m\u001b[38;5;241;43m.\u001b[39;49m\u001b[43mget_parent\u001b[49m\u001b[43m(\u001b[49m\u001b[38;5;124;43m\"\u001b[39;49m\u001b[38;5;124;43mshell\u001b[39;49m\u001b[38;5;124;43m\"\u001b[39;49m\u001b[43m)\u001b[49m\u001b[43m,\u001b[49m\n\u001b[0;32m   1181\u001b[0m \u001b[43m    \u001b[49m\u001b[43mpassword\u001b[49m\u001b[38;5;241;43m=\u001b[39;49m\u001b[38;5;28;43;01mFalse\u001b[39;49;00m\u001b[43m,\u001b[49m\n\u001b[0;32m   1182\u001b[0m \u001b[43m\u001b[49m\u001b[43m)\u001b[49m\n",
      "File \u001b[1;32mc:\\venv\\ilumpy\\lib\\site-packages\\ipykernel\\kernelbase.py:1219\u001b[0m, in \u001b[0;36mKernel._input_request\u001b[1;34m(self, prompt, ident, parent, password)\u001b[0m\n\u001b[0;32m   1216\u001b[0m             \u001b[38;5;28;01mbreak\u001b[39;00m\n\u001b[0;32m   1217\u001b[0m \u001b[38;5;28;01mexcept\u001b[39;00m \u001b[38;5;167;01mKeyboardInterrupt\u001b[39;00m:\n\u001b[0;32m   1218\u001b[0m     \u001b[38;5;66;03m# re-raise KeyboardInterrupt, to truncate traceback\u001b[39;00m\n\u001b[1;32m-> 1219\u001b[0m     \u001b[38;5;28;01mraise\u001b[39;00m \u001b[38;5;167;01mKeyboardInterrupt\u001b[39;00m(\u001b[38;5;124m\"\u001b[39m\u001b[38;5;124mInterrupted by user\u001b[39m\u001b[38;5;124m\"\u001b[39m) \u001b[38;5;28;01mfrom\u001b[39;00m \u001b[38;5;28mNone\u001b[39m\n\u001b[0;32m   1220\u001b[0m \u001b[38;5;28;01mexcept\u001b[39;00m \u001b[38;5;167;01mException\u001b[39;00m:\n\u001b[0;32m   1221\u001b[0m     \u001b[38;5;28mself\u001b[39m\u001b[38;5;241m.\u001b[39mlog\u001b[38;5;241m.\u001b[39mwarning(\u001b[38;5;124m\"\u001b[39m\u001b[38;5;124mInvalid Message:\u001b[39m\u001b[38;5;124m\"\u001b[39m, exc_info\u001b[38;5;241m=\u001b[39m\u001b[38;5;28;01mTrue\u001b[39;00m)\n",
      "\u001b[1;31mKeyboardInterrupt\u001b[0m: Interrupted by user"
     ]
    }
   ],
   "source": [
    "\n",
    "from collections import Counter\n",
    "import difflib\n",
    "from sys import exit\n",
    "\n",
    "def letras_mais_frequentes(palavras):\n",
    "    letras = [letra for palavra in palavras for letra in palavra]\n",
    "    contador = Counter(letras)\n",
    "    letras_frequentes = contador.most_common()\n",
    "    letras_top = [letra for letra, _ in letras_frequentes]\n",
    "    \n",
    "    return letras_top\n",
    "\n",
    "palavras = []\n",
    "\n",
    "# Caminho do arquivo de texto\n",
    "caminho_arquivo = \"elementos.txt\"\n",
    "\n",
    "# Abrir o arquivo em modo de leitura\n",
    "with open(caminho_arquivo, \"r\") as arquivo:\n",
    "    # Ler cada linha do arquivo\n",
    "    for linha in arquivo:\n",
    "        # Remover quebras de linha\n",
    "        linha = linha.strip()\n",
    "        # Dividir a linha em palavras\n",
    "        palavras_linha = linha.split()\n",
    "        # Adicionar as palavras na lista 'palavras'\n",
    "        palavras.extend(palavras_linha)\n",
    "\n",
    "def analisar_palavras(palavra_atual, letra_descoberta):\n",
    "    tamanho_palavra = len(palavra_atual)\n",
    "    palavras_analisar = [p for p in palavras if len(p) == tamanho_palavra]\n",
    "    palavras_possiveis = []\n",
    "    monta_palavra = [0] * tamanho_palavra\n",
    "    for palavra in palavras_analisar:\n",
    "        for i, letra in enumerate(palavra):\n",
    "            if i == len(palavra_atual):\n",
    "                break\n",
    "            if i == palavra_atual.index(letra_descoberta):\n",
    "                if letra == letra_descoberta:\n",
    "                    palavras_possiveis.append(palavra)\n",
    "                    chute_palavra = difflib.get_close_matches(palavra, palavras_possiveis)\n",
    "                else:\n",
    "                    break\n",
    "    \n",
    "    return palavras_possiveis,chute_palavra\n",
    "\n",
    "\n",
    "#listas com as palavras organizadas por número de letras \n",
    "letras_1 = [] \n",
    "letras_2 = []\n",
    "letras_3 = []\n",
    "letras_4 = []\n",
    "letras_5 = []\n",
    "letras_6 = []\n",
    "letras_7 = []\n",
    "letras_8 = []\n",
    "letras_9 = []\n",
    "letras_10 = []\n",
    "letras_11 = []\n",
    "letras_12 = []\n",
    "                   \n",
    "#listas com as letras das palavras com x número de letras\n",
    "letras_palavras_1 = []\n",
    "letras_palavras_2 = []\n",
    "letras_palavras_3 = []\n",
    "letras_palavras_4 = []\n",
    "letras_palavras_5 = []\n",
    "letras_palavras_6 = []\n",
    "letras_palavras_7 = []\n",
    "letras_palavras_8 = []\n",
    "letras_palavras_9 = []\n",
    "letras_palavras_10 = []\n",
    "letras_palavras_11 = []\n",
    "letras_palavras_12 = []\n",
    "\n",
    "#dicionários com as letras das palavras e o número de vezes que cada letra aparece\n",
    "freq_letra_1 = {}\n",
    "freq_letra_2 = {}\n",
    "freq_letra_3 = {}\n",
    "freq_letra_4 = {}\n",
    "freq_letra_5 = {}\n",
    "freq_letra_6 = {}\n",
    "freq_letra_7 = {}\n",
    "freq_letra_8 = {}\n",
    "freq_letra_9 = {}\n",
    "freq_letra_10 = {}\n",
    "freq_letra_11 = {}\n",
    "freq_letra_12 = {}\n",
    "\n",
    "\n",
    "#Agora cada letra ordenada por frequência:\n",
    "freq_letra_1_ord = []\n",
    "freq_letra_2_ord = []\n",
    "freq_letra_3_ord = []\n",
    "freq_letra_4_ord = []\n",
    "freq_letra_5_ord = []\n",
    "freq_letra_6_ord = []\n",
    "freq_letra_7_ord = []\n",
    "freq_letra_8_ord = []\n",
    "freq_letra_9_ord = []\n",
    "freq_letra_10_ord = []\n",
    "freq_letra_11_ord = []\n",
    "freq_letra_12_ord = []\n",
    "\n",
    "def dividir_tamanho_palavra():\n",
    "    for palavra in palavras:\n",
    "        tamanho = len(palavra)\n",
    "        #print(tamanho)\n",
    "        if tamanho == 1:\n",
    "            letras_1.append(palavra)\n",
    "        elif tamanho == 2:\n",
    "            letras_2.append(palavra)\n",
    "        elif tamanho == 3:\n",
    "            letras_3.append(palavra)\n",
    "        elif tamanho == 4:\n",
    "            letras_4.append(palavra)\n",
    "        elif tamanho == 5:\n",
    "            letras_5.append(palavra)\n",
    "        elif tamanho == 6:\n",
    "            letras_6.append(palavra)\n",
    "        elif tamanho == 7:\n",
    "            letras_7.append(palavra)\n",
    "        elif tamanho == 8:\n",
    "            letras_8.append(palavra)\n",
    "        elif tamanho == 9:\n",
    "            letras_9.append(palavra)\n",
    "        elif tamanho == 10:\n",
    "            letras_10.append(palavra)\n",
    "        elif tamanho == 11:\n",
    "            letras_11.append(palavra)\n",
    "        else:\n",
    "            letras_12.append(palavra)\n",
    "        #for letra in palavra:\n",
    "dividir_tamanho_palavra()\n",
    "#print(letras_1, letras_2, letras_3, letras_4, letras_5, letras_6, letras_7, letras_8, letras_9, letras_10, letras_11, letras_12)\n",
    "\n",
    "def letras_mais_comuns(letras_x, letras_palavras_x, freq_letra_x, freq_letra_x_ord, x): #separa as letras mais comuns em cada tamanho de palavra\n",
    "    for palavra in letras_x: \n",
    "        for letra in palavra: \n",
    "            letras_palavras_x.append(letra) #guarda a letra na lista de letras das palavras de 8 letras\n",
    "    for letra in letras_palavras_x: #para cada letra na lista de letras de palavras com 8 letras\n",
    "        cont_letras = letras_palavras_x.count(letra) #contar o numero de vezes que cada letra aparece\n",
    "        freq_letra_x[letra] = cont_letras #armazenar a letra e o número de vezes que essa letra aparece em um dicionário\n",
    "    freq_letra_x_ord = list(sorted(freq_letra_x, key=freq_letra_x.get, reverse=True))\n",
    "    #print(freq_letra_x)\n",
    "    #print(f\"As letras mais comuns em palavras com {x} letras são: \", freq_letra_x_ord)\n",
    "    return freq_letra_x_ord\n",
    "\n",
    "letras_1 = letras_mais_comuns(letras_1, letras_palavras_1, freq_letra_1, freq_letra_1_ord, 1)    \n",
    "letras_2 = letras_mais_comuns(letras_2, letras_palavras_2, freq_letra_2, freq_letra_2_ord, 2) \n",
    "letras_3 = letras_mais_comuns(letras_3, letras_palavras_3, freq_letra_3, freq_letra_3_ord, 3)    \n",
    "letras_4 = letras_mais_comuns(letras_4, letras_palavras_4, freq_letra_4, freq_letra_4_ord, 4) \n",
    "letras_5 = letras_mais_comuns(letras_5, letras_palavras_5, freq_letra_5, freq_letra_5_ord, 5)    \n",
    "letras_6 = letras_mais_comuns(letras_6, letras_palavras_6, freq_letra_6, freq_letra_6_ord, 6)\n",
    "letras_7 = letras_mais_comuns(letras_7, letras_palavras_7, freq_letra_7, freq_letra_7_ord, 7)    \n",
    "letras_8 = letras_mais_comuns(letras_8, letras_palavras_8, freq_letra_8, freq_letra_8_ord, 8) \n",
    "letras_9 = letras_mais_comuns(letras_9, letras_palavras_9, freq_letra_9, freq_letra_9_ord, 9)    \n",
    "letras_10 = letras_mais_comuns(letras_10, letras_palavras_10, freq_letra_10, freq_letra_10_ord, 10) \n",
    "letras_11 = letras_mais_comuns(letras_11, letras_palavras_11, freq_letra_11, freq_letra_11_ord, 11)    \n",
    "letras_12 = letras_mais_comuns(letras_12, letras_palavras_12, freq_letra_12, freq_letra_12_ord, 12)\n",
    "\n",
    "\n",
    "#print(letras_4)\n",
    "#print(letras_5)\n",
    "#print(letras_7)\n",
    "#print(letras_7)\n",
    "#print(letras_8)\n",
    "\n",
    "def chutes(lista, tentativa, palavra):\n",
    "    chute = lista[tentativa - 1]\n",
    "\n",
    "    while True:\n",
    "        resposta = input(f'A sua palavra tem a letra {chute}? ')\n",
    "        resposta = resposta.lower()\n",
    "\n",
    "        if resposta == 'sim' or resposta == 's':\n",
    "            tem_a_letra = True\n",
    "            break\n",
    "        elif resposta == 'não' or resposta == 'n':\n",
    "            tem_a_letra = False\n",
    "            break\n",
    "        else:\n",
    "            print(\"Por favor, responda com 'sim' ou 'não'\")\n",
    "\n",
    "    if tem_a_letra:\n",
    "        n_posicoes = int(input('Quantas vezes sua letra aparece na palavra? '))\n",
    "        i = 1\n",
    "        while i <= n_posicoes:\n",
    "            posicao = int(input(f\"Me diga a {i}ª posição em que sua letra aparece: \"))\n",
    "            palavra[posicao - 1] = chute\n",
    "            print(palavra)\n",
    "            i += 1\n",
    "\n",
    "            # Analisar palavras após descobrir nova letra\n",
    "            palavra_atual = ''.join(str(x) for x in palavra)\n",
    "            palavras_possiveis, chutando = analisar_palavras(palavra_atual, chute)\n",
    "            print(\"Palavras possíveis:\", palavras_possiveis)\n",
    "\n",
    "            #try:\n",
    "            if len(palavras_possiveis) == 1:\n",
    "                print(\"A palavra é:\", chutando)\n",
    "                exit()\n",
    "                return True\n",
    "            #except SystemExit():\n",
    "            #    pass\n",
    "\n",
    "    else:\n",
    "        print('bele')\n",
    "\n",
    "    return False\n",
    " \n",
    "\n",
    "def escolhe_lista(n_letras):\n",
    "    if n_letras == 1:\n",
    "        lista = letras_1\n",
    "    elif n_letras == 2:\n",
    "        lista = letras_2\n",
    "    elif n_letras == 3:\n",
    "        lista = letras_3\n",
    "    elif n_letras == 4:\n",
    "        lista = letras_4\n",
    "    elif n_letras == 5:\n",
    "        lista = letras_5\n",
    "    elif n_letras == 6:\n",
    "        lista = letras_6\n",
    "    elif n_letras == 7:\n",
    "        lista = letras_7\n",
    "    elif n_letras == 8:\n",
    "        lista = letras_8\n",
    "    elif n_letras == 9:\n",
    "        lista = letras_9\n",
    "    elif n_letras == 10:\n",
    "        lista = letras_10\n",
    "    elif n_letras == 11:\n",
    "        lista = letras_11\n",
    "    else: \n",
    "        n_letras == 12\n",
    "        lista = letras_12\n",
    "    return lista\n",
    "\n",
    "# palavra = [0] * 8\n",
    "lista = []\n",
    "def forca():\n",
    "    print('Olá! Vamos jogar o Jogo da Forca?')\n",
    "    print('Para começar, imagine um dos elementos da tabela periódica para eu adivinhar!')\n",
    "    print('Agora me diga: quantas letras tem o seu elemento?')\n",
    "    n_letras = int(input())\n",
    "    palavra = [0] * n_letras\n",
    "    continuar = True\n",
    "    tentativa = 1\n",
    "    while continuar == True:\n",
    "        lista = escolhe_lista(n_letras)\n",
    "        chutes(lista, tentativa, palavra)\n",
    "        continuar = palavra.count(0)\n",
    "        if continuar == 0:\n",
    "            continuar = False\n",
    "            \n",
    "        else:\n",
    "            continuar = True\n",
    "        tentativa = tentativa + 1\n",
    "\n",
    "forca()"
   ]
  },
  {
   "cell_type": "code",
   "execution_count": null,
   "id": "1cf88ade-97db-474e-87c4-7316855a0d0b",
   "metadata": {},
   "outputs": [],
   "source": []
  }
 ],
 "metadata": {
  "kernelspec": {
   "display_name": "ilumpy",
   "language": "python",
   "name": "ilumpy"
  },
  "language_info": {
   "codemirror_mode": {
    "name": "ipython",
    "version": 3
   },
   "file_extension": ".py",
   "mimetype": "text/x-python",
   "name": "python",
   "nbconvert_exporter": "python",
   "pygments_lexer": "ipython3",
   "version": "3.10.8"
  }
 },
 "nbformat": 4,
 "nbformat_minor": 5
}
