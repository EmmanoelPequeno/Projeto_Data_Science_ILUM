{
 "cells": [
  {
   "cell_type": "code",
   "execution_count": 2,
   "id": "bd118f7b-d524-4996-b3b6-ae04626b5241",
   "metadata": {},
   "outputs": [],
   "source": [
    "vocab = ['hidrogenio', 'helio', 'litio', 'berilio', 'boro', 'carbono', 'nitrogenio', 'oxigenio', 'fluor', 'neonio', 'sodio', 'magnesio', 'aluminio', 'silicio', 'fosforo', 'enxofre', 'cloro', 'argonio', 'potassio', 'calcio', 'escandio', 'titanio', 'vanadio', 'cromio', 'manganes', 'ferro', 'cobalto', 'niquel', 'cobre', 'zinco', 'galio', 'germanio', 'arsenio', 'selenio', 'bromo', 'kriptonio']"
   ]
  },
  {
   "cell_type": "markdown",
   "id": "212322ce-4f03-412d-ba8b-e0759c847467",
   "metadata": {},
   "source": [
    "## Lists ##"
   ]
  },
  {
   "cell_type": "code",
   "execution_count": 9,
   "id": "f9c14d88-f1bf-4cd7-aee1-4a53fb637a1f",
   "metadata": {},
   "outputs": [
    {
     "ename": "NameError",
     "evalue": "name 'l' is not defined",
     "output_type": "error",
     "traceback": [
      "\u001b[1;31m---------------------------------------------------------------------------\u001b[0m",
      "\u001b[1;31mNameError\u001b[0m                                 Traceback (most recent call last)",
      "Cell \u001b[1;32mIn [9], line 7\u001b[0m\n\u001b[0;32m      5\u001b[0m \u001b[38;5;28;01mif\u001b[39;00m lists_name \u001b[38;5;129;01min\u001b[39;00m \u001b[38;5;28mlocals\u001b[39m():\n\u001b[0;32m      6\u001b[0m     \u001b[38;5;28;01mif\u001b[39;00m word \u001b[38;5;129;01mnot\u001b[39;00m \u001b[38;5;129;01min\u001b[39;00m lists_name:\n\u001b[1;32m----> 7\u001b[0m         \u001b[43ml\u001b[49m[lists_name]\u001b[38;5;241m.\u001b[39mappend(word)\n\u001b[0;32m      8\u001b[0m     \u001b[38;5;28;01melse\u001b[39;00m: \n\u001b[0;32m      9\u001b[0m         \u001b[38;5;28;01mcontinue\u001b[39;00m\n",
      "\u001b[1;31mNameError\u001b[0m: name 'l' is not defined"
     ]
    }
   ],
   "source": [
    "for word in vocab:\n",
    "    size = len(word)\n",
    "    lists_name = f'lista_{size}'\n",
    "    \n",
    "    if lists_name in locals():\n",
    "        if word not in lists_name:\n",
    "            l[lists_name].append(word)\n",
    "        else: \n",
    "            continue\n",
    "    else:\n",
    "        # A lista não existe, então cria uma nova lista e adiciona a palavra\n",
    "        list = [word]\n",
    "        locals()[lists_name] = list\n",
    "        \n",
    "for i in range(1, 11):\n",
    "    lists_name = f'lista_{i}'\n",
    "    print(lists_name)"
   ]
  },
  {
   "cell_type": "code",
   "execution_count": null,
   "id": "4b90b628-d4f1-476a-b6c7-dd31c5c64691",
   "metadata": {},
   "outputs": [],
   "source": []
  }
 ],
 "metadata": {
  "kernelspec": {
   "display_name": "ilumpy",
   "language": "python",
   "name": "ilumpy"
  },
  "language_info": {
   "codemirror_mode": {
    "name": "ipython",
    "version": 3
   },
   "file_extension": ".py",
   "mimetype": "text/x-python",
   "name": "python",
   "nbconvert_exporter": "python",
   "pygments_lexer": "ipython3",
   "version": "3.10.8"
  }
 },
 "nbformat": 4,
 "nbformat_minor": 5
}
